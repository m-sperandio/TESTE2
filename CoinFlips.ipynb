{
 "cells": [
  {
   "cell_type": "markdown",
   "id": "6465db52",
   "metadata": {},
   "source": [
    "# Power System Economics and Special Topics\n",
    "## Power System Reliability\n",
    "### Prof. Mauricio Sperandio\n",
    "### 19.10.22"
   ]
  },
  {
   "cell_type": "code",
   "execution_count": null,
   "id": "19be027d",
   "metadata": {
    "slideshow": {
     "slide_type": "skip"
    }
   },
   "outputs": [],
   "source": [
    "from random import random as rand\n",
    "import matplotlib.pyplot as plt\n",
    "import ipywidgets as wg\n",
    "import numpy as np\n",
    "from numpy import linalg as lg\n",
    "import scipy.stats as stats\n",
    "import math"
   ]
  },
  {
   "cell_type": "markdown",
   "id": "3d577cd0",
   "metadata": {},
   "source": [
    "### Normal Distribution Function"
   ]
  },
  {
   "cell_type": "code",
   "execution_count": null,
   "id": "21de98a0",
   "metadata": {
    "scrolled": false
   },
   "outputs": [],
   "source": [
    "@wg.interact(var=(1,10))\n",
    "def normal(var):\n",
    "    mu = 15\n",
    "    sigma = math.sqrt(var)\n",
    "    x1 = mu + sigma * np.random.randn(1000)\n",
    "    x2 = np.linspace(mu - 3*sigma, mu + 3*sigma, 100)\n",
    "    plt.hist(x1,bins=np.arange(25)-0.5, density=True, facecolor='g', alpha=0.7, edgecolor='white',linewidth=2)\n",
    "    plt.xticks(np.arange(5,25))\n",
    "    plt.plot(x2, stats.norm.pdf(x2, mu, sigma),color='green', lw=3)\n",
    "    plt.xlim(5, 25)\n",
    "    plt.ylim(0, .4)\n",
    "    plt.ylabel('Probability')\n",
    "    plt.show()"
   ]
  },
  {
   "cell_type": "markdown",
   "id": "1f9eca59",
   "metadata": {},
   "source": [
    "### Exponential Distribution"
   ]
  },
  {
   "cell_type": "code",
   "execution_count": null,
   "id": "d18ba020",
   "metadata": {},
   "outputs": [],
   "source": [
    "@wg.interact(lmbda=(.5,5))\n",
    "def normal(lmbda):\n",
    "    x = np.linspace(0, 10, 100)\n",
    "    y = lmbda*np.exp(-lmbda*x)\n",
    "    fx = y/sum(y)\n",
    "    plt.plot(x,fx, color='green', lw=3)\n",
    "    plt.xlim(0, 3)\n",
    "    plt.ylim(0, .4)\n",
    "    plt.ylabel('Probability')\n",
    "    plt.show()"
   ]
  },
  {
   "cell_type": "markdown",
   "id": "d3d8b29a",
   "metadata": {},
   "source": [
    "### Monte Carlo Coin Flip"
   ]
  },
  {
   "cell_type": "code",
   "execution_count": null,
   "id": "6844d4dd",
   "metadata": {
    "slideshow": {
     "slide_type": "slide"
    }
   },
   "outputs": [],
   "source": [
    "@wg.interact(n=(100,5000))\n",
    "def montecarlo(n):\n",
    "    x = []\n",
    "    for i in range(n):\n",
    "        y = rand()\n",
    "        if y<.5:\n",
    "            x.append(0)\n",
    "        else:\n",
    "            x.append(1)\n",
    "    headst = x.count(0)\n",
    "    tailst = x.count(1)    \n",
    "    headsa = x[:50].count(0)\n",
    "    tailsa = x[:50].count(1)\n",
    "    plt.stairs(x[:50],lw=2) \n",
    "    plt.title('{:.2%} Heads and {:.2%} Tails on 50 flips'.format(headsa/50,tailsa/50), fontsize=12)\n",
    "    plt.xlabel('{:.2%} Heads and {:.2%} Tails on {} flips'.format(headst/n,tailst/n,n), fontsize=12)\n",
    "    plt.yticks([0, 1],['Heads','Tails'])\n",
    "    \n",
    "    plt.show()  \n",
    "    "
   ]
  },
  {
   "cell_type": "markdown",
   "id": "02ebe129",
   "metadata": {},
   "source": [
    "### Long Run Probabilities"
   ]
  },
  {
   "cell_type": "code",
   "execution_count": null,
   "id": "4de19878",
   "metadata": {
    "scrolled": true
   },
   "outputs": [],
   "source": [
    "P=np.array([[.5, .5],[.25, .75]])\n",
    "I=np.eye(2)\n",
    "print(A)\n",
    "print(I)"
   ]
  },
  {
   "cell_type": "code",
   "execution_count": null,
   "id": "79e72a2d",
   "metadata": {},
   "outputs": [],
   "source": [
    "A = P-I\n",
    "print(A)"
   ]
  },
  {
   "cell_type": "code",
   "execution_count": null,
   "id": "c5870e22",
   "metadata": {},
   "outputs": [],
   "source": [
    "A[:,1]=1\n",
    "print(A)"
   ]
  },
  {
   "cell_type": "code",
   "execution_count": null,
   "id": "87d80bbb",
   "metadata": {},
   "outputs": [],
   "source": [
    "b=np.array([0,1])"
   ]
  },
  {
   "cell_type": "code",
   "execution_count": null,
   "id": "eac6bba7",
   "metadata": {},
   "outputs": [],
   "source": [
    "p = b@lg.inv(A)\n",
    "print(p)"
   ]
  },
  {
   "cell_type": "code",
   "execution_count": null,
   "id": "1b1d3aa4",
   "metadata": {},
   "outputs": [],
   "source": []
  }
 ],
 "metadata": {
  "celltoolbar": "Raw Cell Format",
  "kernelspec": {
   "display_name": "Python 3 (ipykernel)",
   "language": "python",
   "name": "python3"
  },
  "language_info": {
   "codemirror_mode": {
    "name": "ipython",
    "version": 3
   },
   "file_extension": ".py",
   "mimetype": "text/x-python",
   "name": "python",
   "nbconvert_exporter": "python",
   "pygments_lexer": "ipython3",
   "version": "3.10.4"
  }
 },
 "nbformat": 4,
 "nbformat_minor": 5
}
